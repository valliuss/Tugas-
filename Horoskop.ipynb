{
  "nbformat": 4,
  "nbformat_minor": 0,
  "metadata": {
    "colab": {
      "provenance": [],
      "authorship_tag": "ABX9TyOwKOxorwnjY5nvFGRCkUi5"
    },
    "kernelspec": {
      "name": "python3",
      "display_name": "Python 3"
    },
    "language_info": {
      "name": "python"
    }
  },
  "cells": [
    {
      "cell_type": "code",
      "execution_count": null,
      "metadata": {
        "id": "GhDNOcQsMYoz"
      },
      "outputs": [],
      "source": [
        "umur = int(input(\"Masukan Panjang kaki anda: \"))\n",
        "berat = int(input(\"Masukan Lebar kaki anda: \"))\n",
        "\n",
        "if berat >= 800:\n",
        "    print(f\"Sapi ini memiliki kualitas yang sangat baik,Terlebih untuk di qurban. Akan menghasilkan daging yang sangat banyak\")\n",
        "elif berat >= 500:\n",
        "    print(f\"Sapi ini cukup menjadi pilihan yang terbaik untuk di qurban\")\n",
        "elif berat >= 200:\n",
        "    print(f\"Sapi ini menjadi pilihan terbaik untuk berqurban dengan budget yang sangat dikit\")\n",
        "else:\n",
        "    print(\"Sapi ini terlalu kecil, Ganti jadi kambing\")"
      ]
    }
  ]
}